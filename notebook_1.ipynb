{
  "cells": [
    {
      "cell_type": "code",
      "execution_count": 1,
      "metadata": {
        "id": "wAyhAwn6Apz8"
      },
      "outputs": [],
      "source": [
        "# Setup & Imports\n",
        "import pandas as pd\n",
        "import numpy as np\n",
        "import matplotlib.pyplot as plt\n",
        "import seaborn as sns\n",
        "import os"
      ]
    },
    {
      "cell_type": "code",
      "execution_count": 2,
      "metadata": {
        "id": "2WOch88QB5an"
      },
      "outputs": [],
      "source": [
        "# Create folder structure\n",
        "os.makedirs(\"csv_files\", exist_ok=True)\n",
        "os.makedirs(\"outputs\", exist_ok=True)"
      ]
    },
    {
      "cell_type": "code",
      "execution_count": 3,
      "metadata": {
        "id": "9hL_7_-sB9ZT"
      },
      "outputs": [],
      "source": [
        "# Load Datasets\n",
        "trader_data_url = \"https://drive.google.com/uc?id=1IAfLZwu6rJzyWKgBToqwSmmVYU6VbjVs\"\n",
        "sentiment_data_url = \"https://drive.google.com/uc?id=1PgQC0tO8XN-wqkNyghWc_-mnrYv_nhSf\""
      ]
    },
    {
      "cell_type": "code",
      "execution_count": 4,
      "metadata": {
        "colab": {
          "base_uri": "https://localhost:8080/"
        },
        "id": "8cL-pj3dCBwA",
        "outputId": "1c796cd8-ec3d-4574-a09d-88ac1c8d946f"
      },
      "outputs": [
        {
          "name": "stdout",
          "output_type": "stream",
          "text": [
            "Trader Data Shape: (211224, 16)\n",
            "Sentiment Data Shape: (2644, 4)\n"
          ]
        }
      ],
      "source": [
        "# Data Preprocessing\n",
        "trader_df = pd.read_csv(trader_data_url)\n",
        "sentiment_df = pd.read_csv(sentiment_data_url)\n",
        "\n",
        "print(\"Trader Data Shape:\", trader_df.shape)\n",
        "print(\"Sentiment Data Shape:\", sentiment_df.shape)"
      ]
    },
    {
      "cell_type": "code",
      "execution_count": 5,
      "metadata": {
        "id": "gpRGZf5dCMgK"
      },
      "outputs": [],
      "source": [
        "# Convert date columns to datetime\n",
        "sentiment_df['date'] = pd.to_datetime(sentiment_df['date'], errors='coerce')\n",
        "trader_df['Timestamp IST'] = pd.to_datetime(trader_df['Timestamp IST'], format='%d-%m-%Y %H:%M', errors='coerce')"
      ]
    },
    {
      "cell_type": "code",
      "execution_count": 6,
      "metadata": {
        "id": "V4Sh3wBsDW40"
      },
      "outputs": [],
      "source": [
        "# Extract date only from trader_df\n",
        "trader_df['trade_date'] = trader_df['Timestamp IST'].dt.date\n",
        "trader_df['trade_date'] = pd.to_datetime(trader_df['trade_date'])"
      ]
    },
    {
      "cell_type": "code",
      "execution_count": 7,
      "metadata": {
        "id": "_DqAE2XVDqEt"
      },
      "outputs": [],
      "source": [
        "# Standardize sentiment classification\n",
        "sentiment_df['classification'] = sentiment_df['classification'].str.strip().str.title()\n",
        "# Reduce to just Fear / Greed categories\n",
        "sentiment_df['classification'] = sentiment_df['classification'].replace({\n",
        "    'Extreme Fear': 'Fear',\n",
        "    'Extreme Greed': 'Greed'\n",
        "})"
      ]
    },
    {
      "cell_type": "code",
      "execution_count": 8,
      "metadata": {
        "colab": {
          "base_uri": "https://localhost:8080/"
        },
        "id": "uH81BfAGDyv-",
        "outputId": "8f49f7ca-1962-443e-aac5-4a3eda7f9290"
      },
      "outputs": [
        {
          "name": "stdout",
          "output_type": "stream",
          "text": [
            "Merged Shape: (211224, 19)\n"
          ]
        }
      ],
      "source": [
        "# Merge datasets\n",
        "merged_df = pd.merge(\n",
        "    trader_df,\n",
        "    sentiment_df[['date', 'classification']],\n",
        "    left_on='trade_date',\n",
        "    right_on='date',\n",
        "    how='left'\n",
        ")\n",
        "\n",
        "print(\"Merged Shape:\", merged_df.shape)\n"
      ]
    },
    {
      "cell_type": "code",
      "execution_count": 9,
      "metadata": {
        "id": "RREiZPIgD_vg"
      },
      "outputs": [],
      "source": [
        "# Save merged data\n",
        "merged_df.to_csv(\"csv_files/merged_trader_sentiment.csv\", index=False)"
      ]
    },
    {
      "cell_type": "code",
      "execution_count": 10,
      "metadata": {
        "id": "yylVHsf_EK4R"
      },
      "outputs": [],
      "source": [
        "# Exploratory Data Analysis (EDA)\n",
        "sns.set(style=\"whitegrid\")"
      ]
    },
    {
      "cell_type": "code",
      "execution_count": 11,
      "metadata": {
        "id": "27IVl2uYEZRc"
      },
      "outputs": [],
      "source": [
        "# 1. Distribution of Sentiment Days\n",
        "plt.figure(figsize=(6,4))\n",
        "sns.countplot(x=\"classification\", data=sentiment_df, palette=\"coolwarm\", hue=\"classification\", legend=False)\n",
        "plt.title(\"Distribution of Fear vs Greed Days\")\n",
        "plt.savefig(\"outputs/sentiment_distribution.png\")\n",
        "plt.close()"
      ]
    },
    {
      "cell_type": "code",
      "execution_count": 12,
      "metadata": {
        "id": "XlI4DVQzFcrd"
      },
      "outputs": [],
      "source": [
        "# 2. Average Profitability by Sentiment\n",
        "plt.figure(figsize=(6,4))\n",
        "sns.barplot(\n",
        "    x=\"classification\",\n",
        "    y=\"Closed PnL\",\n",
        "    data=merged_df,\n",
        "    palette=\"coolwarm\",\n",
        "    hue=\"classification\",\n",
        "    legend=False,\n",
        "    errorbar=None\n",
        ")\n",
        "plt.title(\"Average Closed PnL by Sentiment\")\n",
        "plt.savefig(\"outputs/profitability_by_sentiment.png\")\n",
        "plt.close()\n"
      ]
    },
    {
      "cell_type": "code",
      "execution_count": null,
      "metadata": {
        "id": "qvd2_9spJUtU"
      },
      "outputs": [],
      "source": [
        "# 3. Leverage Usage by Sentiment \n",
        "plt.figure(figsize=(6,4))\n",
        "sns.boxplot(x=\"classification\", y=\"Size USD\", data=merged_df, palette=\"coolwarm\", hue=\"classification\", legend=False)\n",
        "plt.title(\"Trade Size (USD) by Sentiment\")\n",
        "plt.savefig(\"outputs/trade_size_by_sentiment.png\")\n",
        "plt.close()"
      ]
    },
    {
      "cell_type": "code",
      "execution_count": 14,
      "metadata": {
        "id": "_YnX9RhQOFVc"
      },
      "outputs": [],
      "source": [
        "# 4. Win Rate by Sentiment\n",
        "merged_df['profitable'] = merged_df['Closed PnL'] > 0\n",
        "win_rate = merged_df.groupby('classification')['profitable'].mean().reset_index()\n",
        "\n",
        "plt.figure(figsize=(6,4))\n",
        "sns.barplot(x=\"classification\", y=\"profitable\", data=win_rate, palette=\"coolwarm\", hue=\"classification\", legend=False)\n",
        "plt.title(\"Win Rate by Sentiment\")\n",
        "plt.ylabel(\"Win Rate\")\n",
        "plt.savefig(\"outputs/win_rate_by_sentiment.png\")\n",
        "plt.close()\n"
      ]
    },
    {
      "cell_type": "code",
      "execution_count": 15,
      "metadata": {
        "colab": {
          "base_uri": "https://localhost:8080/"
        },
        "id": "d5EtxT9HOPBv",
        "outputId": "c5989c29-344a-4391-f9b3-0a7b93b53be7"
      },
      "outputs": [
        {
          "name": "stdout",
          "output_type": "stream",
          "text": [
            "✅ Data processing & EDA complete! Check 'csv_files/' and 'outputs/' folders.\n"
          ]
        }
      ],
      "source": [
        "# Save Processed Data\n",
        "sentiment_df.to_csv(\"csv_files/processed_sentiment.csv\", index=False)\n",
        "trader_df.to_csv(\"csv_files/processed_trader_data.csv\", index=False)\n",
        "\n",
        "print(\"✅ Data processing & EDA complete! Check 'csv_files/' and 'outputs/' folders.\")"
      ]
    }
  ],
  "metadata": {
    "colab": {
      "provenance": []
    },
    "kernelspec": {
      "display_name": "base",
      "language": "python",
      "name": "python3"
    },
    "language_info": {
      "codemirror_mode": {
        "name": "ipython",
        "version": 3
      },
      "file_extension": ".py",
      "mimetype": "text/x-python",
      "name": "python",
      "nbconvert_exporter": "python",
      "pygments_lexer": "ipython3",
      "version": "3.12.7"
    }
  },
  "nbformat": 4,
  "nbformat_minor": 0
}
